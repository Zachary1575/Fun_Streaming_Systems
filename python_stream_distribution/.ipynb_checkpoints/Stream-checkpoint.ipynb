{
 "cells": [
  {
   "cell_type": "code",
   "execution_count": null,
   "id": "fe6a7b23-c4d7-418a-98f7-1d01c1520594",
   "metadata": {},
   "outputs": [],
   "source": [
    "import numpy as np"
   ]
  },
  {
   "cell_type": "markdown",
   "id": "94f42c7d-35cd-45f4-8c34-ae89fdbd6a69",
   "metadata": {},
   "source": [
    "## Stream of Data"
   ]
  },
  {
   "cell_type": "markdown",
   "id": "7a8f2cfe-3944-4915-8939-f526f015872d",
   "metadata": {},
   "source": [
    "Suppose that we want to model data streams $X$, where $X$ follows a **Bi-variate normal distrbution** with some noise. We illustrate the data below with the appropriate classes."
   ]
  },
  {
   "cell_type": "code",
   "execution_count": null,
   "id": "9bc8e437-42bc-4bc2-8dfd-d28475f49648",
   "metadata": {},
   "outputs": [],
   "source": [
    "n_cluster = 5000"
   ]
  },
  {
   "cell_type": "code",
   "execution_count": null,
   "id": "ed778326-9645-4f9a-be55-5b9c08c917d2",
   "metadata": {},
   "outputs": [],
   "source": []
  },
  {
   "cell_type": "code",
   "execution_count": null,
   "id": "afeae241-06b6-4afa-94f8-6841751eab1d",
   "metadata": {},
   "outputs": [],
   "source": []
  },
  {
   "cell_type": "code",
   "execution_count": null,
   "id": "1b158ed4-29c2-40d3-a38d-4679358a1f7b",
   "metadata": {},
   "outputs": [],
   "source": []
  },
  {
   "cell_type": "code",
   "execution_count": null,
   "id": "4c2e6da0-fdff-42bb-94b9-c613e1ed2b68",
   "metadata": {},
   "outputs": [],
   "source": []
  },
  {
   "cell_type": "code",
   "execution_count": null,
   "id": "33011406-6011-40fc-ae78-a56420b39486",
   "metadata": {},
   "outputs": [],
   "source": []
  },
  {
   "cell_type": "code",
   "execution_count": null,
   "id": "088f4313-2dd9-42eb-b74f-f7be5de8396a",
   "metadata": {},
   "outputs": [],
   "source": []
  },
  {
   "cell_type": "code",
   "execution_count": null,
   "id": "e7509db8-4dff-4dde-8a5e-46d2c4e47af5",
   "metadata": {},
   "outputs": [],
   "source": []
  },
  {
   "cell_type": "code",
   "execution_count": null,
   "id": "ce451a5a-835b-4e00-a575-a775ad4a795f",
   "metadata": {},
   "outputs": [],
   "source": []
  },
  {
   "cell_type": "code",
   "execution_count": null,
   "id": "f03e3f10-9be9-4de4-a042-031126d2496b",
   "metadata": {},
   "outputs": [],
   "source": []
  }
 ],
 "metadata": {
  "kernelspec": {
   "display_name": "Python 3 (ipykernel)",
   "language": "python",
   "name": "python3"
  },
  "language_info": {
   "codemirror_mode": {
    "name": "ipython",
    "version": 3
   },
   "file_extension": ".py",
   "mimetype": "text/x-python",
   "name": "python",
   "nbconvert_exporter": "python",
   "pygments_lexer": "ipython3",
   "version": "3.10.0"
  }
 },
 "nbformat": 4,
 "nbformat_minor": 5
}
